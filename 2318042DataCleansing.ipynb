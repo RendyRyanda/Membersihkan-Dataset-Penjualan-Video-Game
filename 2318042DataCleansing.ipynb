{
  "nbformat": 4,
  "nbformat_minor": 0,
  "metadata": {
    "colab": {
      "provenance": [],
      "authorship_tag": "ABX9TyNYN7ST17By6X/VOwLDC9KU",
      "include_colab_link": true
    },
    "kernelspec": {
      "name": "python3",
      "display_name": "Python 3"
    },
    "language_info": {
      "name": "python"
    }
  },
  "cells": [
    {
      "cell_type": "markdown",
      "metadata": {
        "id": "view-in-github",
        "colab_type": "text"
      },
      "source": [
        "<a href=\"https://colab.research.google.com/github/RendyRyanda/Membersihkan-Dataset-Penjualan-Video-Game/blob/main/2318042DataCleansing.ipynb\" target=\"_parent\"><img src=\"https://colab.research.google.com/assets/colab-badge.svg\" alt=\"Open In Colab\"/></a>"
      ]
    },
    {
      "cell_type": "markdown",
      "source": [
        "# 1. Import Libraries"
      ],
      "metadata": {
        "id": "ucbMwcLoUgc8"
      }
    },
    {
      "cell_type": "code",
      "source": [
        "import pandas as pd\n",
        "import matplotlib.pyplot as plt\n",
        "import seaborn as sns\n",
        "import unicodedata"
      ],
      "metadata": {
        "id": "e382ZcUJUkGM"
      },
      "execution_count": null,
      "outputs": []
    },
    {
      "cell_type": "code",
      "source": [
        "# Langkah 1: Mount Google Drive\n",
        "from google.colab import drive\n",
        "drive.mount('/content/drive')"
      ],
      "metadata": {
        "colab": {
          "base_uri": "https://localhost:8080/"
        },
        "id": "8zuIWKD5Uxlk",
        "outputId": "9e28ee2c-2c02-469b-ca4c-96eccf6084c4"
      },
      "execution_count": null,
      "outputs": [
        {
          "output_type": "stream",
          "name": "stdout",
          "text": [
            "Drive already mounted at /content/drive; to attempt to forcibly remount, call drive.mount(\"/content/drive\", force_remount=True).\n"
          ]
        }
      ]
    },
    {
      "cell_type": "markdown",
      "source": [
        "# 2. Baca Dataset pelanggan yang kotor"
      ],
      "metadata": {
        "id": "n6IA7uvgUkwc"
      }
    },
    {
      "cell_type": "code",
      "source": [
        "# Load dataset\n",
        "file_path = \"/content/drive/MyDrive/Colab Notebooks/vgsales.csv\"# ganti sesuai path di Colab\n",
        "df_dirty = pd.read_csv(file_path)"
      ],
      "metadata": {
        "id": "8sTkAA95VLXM"
      },
      "execution_count": null,
      "outputs": []
    },
    {
      "cell_type": "code",
      "source": [
        "# Use the already loaded dataframe\n",
        "df = df_dirty\n",
        "\n",
        "# Tampilkan semua baris data\n",
        "print(\"=== Dataset Asli ===\")\n",
        "print(df.head())\n",
        "\n",
        "print(\"\\nInfo Dataset:\")\n",
        "print(df.info())\n",
        "\n",
        "print(\"\\nJumlah Data & Kolom:\", df.shape)"
      ],
      "metadata": {
        "colab": {
          "base_uri": "https://localhost:8080/"
        },
        "id": "-3SniFIEVT8E",
        "outputId": "824b3379-0dea-46d4-83d0-aab8e4c6e043"
      },
      "execution_count": null,
      "outputs": [
        {
          "output_type": "stream",
          "name": "stdout",
          "text": [
            "=== Dataset Asli ===\n",
            "   Rank                      Name Platform    Year         Genre Publisher  \\\n",
            "0     1                Wii Sports      Wii  2006.0        Sports  Nintendo   \n",
            "1     2         Super Mario Bros.      NES  1985.0      Platform  Nintendo   \n",
            "2     3            Mario Kart Wii      Wii  2008.0        Racing  Nintendo   \n",
            "3     4         Wii Sports Resort      Wii  2009.0        Sports  Nintendo   \n",
            "4     5  Pokemon Red/Pokemon Blue       GB  1996.0  Role-Playing  Nintendo   \n",
            "\n",
            "   NA_Sales  EU_Sales  JP_Sales  Other_Sales  Global_Sales  \n",
            "0     41.49     29.02      3.77         8.46         82.74  \n",
            "1     29.08      3.58      6.81         0.77         40.24  \n",
            "2     15.85     12.88      3.79         3.31         35.82  \n",
            "3     15.75     11.01      3.28         2.96         33.00  \n",
            "4     11.27      8.89     10.22         1.00         31.37  \n",
            "\n",
            "Info Dataset:\n",
            "<class 'pandas.core.frame.DataFrame'>\n",
            "RangeIndex: 999 entries, 0 to 998\n",
            "Data columns (total 11 columns):\n",
            " #   Column        Non-Null Count  Dtype  \n",
            "---  ------        --------------  -----  \n",
            " 0   Rank          999 non-null    int64  \n",
            " 1   Name          999 non-null    object \n",
            " 2   Platform      999 non-null    object \n",
            " 3   Year          989 non-null    float64\n",
            " 4   Genre         999 non-null    object \n",
            " 5   Publisher     998 non-null    object \n",
            " 6   NA_Sales      999 non-null    float64\n",
            " 7   EU_Sales      999 non-null    float64\n",
            " 8   JP_Sales      999 non-null    float64\n",
            " 9   Other_Sales   999 non-null    float64\n",
            " 10  Global_Sales  999 non-null    float64\n",
            "dtypes: float64(6), int64(1), object(4)\n",
            "memory usage: 86.0+ KB\n",
            "None\n",
            "\n",
            "Jumlah Data & Kolom: (999, 11)\n"
          ]
        }
      ]
    },
    {
      "cell_type": "markdown",
      "source": [
        "# 3. Mengecek Nilai yang Hilang"
      ],
      "metadata": {
        "id": "BgcgnZMzUlON"
      }
    },
    {
      "cell_type": "code",
      "source": [
        "print(\"\\n=== Cek Missing Values ===\")\n",
        "print(df.isnull().sum())"
      ],
      "metadata": {
        "colab": {
          "base_uri": "https://localhost:8080/"
        },
        "id": "zjTgJ6SZUw78",
        "outputId": "12670243-cb0b-4260-ecc9-163e69c57227"
      },
      "execution_count": null,
      "outputs": [
        {
          "output_type": "stream",
          "name": "stdout",
          "text": [
            "\n",
            "=== Cek Missing Values ===\n",
            "Rank             0\n",
            "Name             0\n",
            "Platform         0\n",
            "Year            10\n",
            "Genre            0\n",
            "Publisher        1\n",
            "NA_Sales         0\n",
            "EU_Sales         0\n",
            "JP_Sales         0\n",
            "Other_Sales      0\n",
            "Global_Sales     0\n",
            "dtype: int64\n"
          ]
        }
      ]
    },
    {
      "cell_type": "markdown",
      "source": [
        "# 4. Perbaikan Nilai yang Hilang"
      ],
      "metadata": {
        "id": "qFFpmyBRUx8M"
      }
    },
    {
      "cell_type": "code",
      "source": [
        "# Kolom 'year' → isi dengan 'Unknown'\n",
        "df_dirty['Year'].fillna(\"Unknown\", inplace=True)\n",
        "\n",
        "# Kolom 'publisher' → isi dengan 'Unknown'\n",
        "df_dirty['Publisher'].fillna(\"Unknown\", inplace=True)"
      ],
      "metadata": {
        "colab": {
          "base_uri": "https://localhost:8080/"
        },
        "id": "631KjNvzVZi8",
        "outputId": "b9c5c5ca-3896-4a77-8910-13b95b1ccc34"
      },
      "execution_count": null,
      "outputs": [
        {
          "output_type": "stream",
          "name": "stderr",
          "text": [
            "/tmp/ipython-input-2214766728.py:2: FutureWarning: A value is trying to be set on a copy of a DataFrame or Series through chained assignment using an inplace method.\n",
            "The behavior will change in pandas 3.0. This inplace method will never work because the intermediate object on which we are setting values always behaves as a copy.\n",
            "\n",
            "For example, when doing 'df[col].method(value, inplace=True)', try using 'df.method({col: value}, inplace=True)' or df[col] = df[col].method(value) instead, to perform the operation inplace on the original object.\n",
            "\n",
            "\n",
            "  df_dirty['Year'].fillna(\"Unknown\", inplace=True)\n",
            "/tmp/ipython-input-2214766728.py:2: FutureWarning: Setting an item of incompatible dtype is deprecated and will raise an error in a future version of pandas. Value 'Unknown' has dtype incompatible with float64, please explicitly cast to a compatible dtype first.\n",
            "  df_dirty['Year'].fillna(\"Unknown\", inplace=True)\n",
            "/tmp/ipython-input-2214766728.py:5: FutureWarning: A value is trying to be set on a copy of a DataFrame or Series through chained assignment using an inplace method.\n",
            "The behavior will change in pandas 3.0. This inplace method will never work because the intermediate object on which we are setting values always behaves as a copy.\n",
            "\n",
            "For example, when doing 'df[col].method(value, inplace=True)', try using 'df.method({col: value}, inplace=True)' or df[col] = df[col].method(value) instead, to perform the operation inplace on the original object.\n",
            "\n",
            "\n",
            "  df_dirty['Publisher'].fillna(\"Unknown\", inplace=True)\n"
          ]
        }
      ]
    },
    {
      "cell_type": "markdown",
      "source": [
        "# 5. Cek Ulang Perbaikan Mising Velue"
      ],
      "metadata": {
        "id": "YRk9D-9oUyGc"
      }
    },
    {
      "cell_type": "code",
      "source": [
        "print(\"\\n=== Missing Values Setelah Perbaikan ===\")\n",
        "print(df_dirty.isnull().sum())"
      ],
      "metadata": {
        "colab": {
          "base_uri": "https://localhost:8080/"
        },
        "id": "Xy_0xFRFVb6U",
        "outputId": "d4a8aa04-66b0-458b-abdf-67c8f975a6b9"
      },
      "execution_count": null,
      "outputs": [
        {
          "output_type": "stream",
          "name": "stdout",
          "text": [
            "\n",
            "=== Missing Values Setelah Perbaikan ===\n",
            "Rank            0\n",
            "Name            0\n",
            "Platform        0\n",
            "Year            0\n",
            "Genre           0\n",
            "Publisher       0\n",
            "NA_Sales        0\n",
            "EU_Sales        0\n",
            "JP_Sales        0\n",
            "Other_Sales     0\n",
            "Global_Sales    0\n",
            "dtype: int64\n"
          ]
        }
      ]
    },
    {
      "cell_type": "markdown",
      "source": [
        "# 6. Cek & Hapus Duplikasi"
      ],
      "metadata": {
        "id": "IewFtWvNU4l8"
      }
    },
    {
      "cell_type": "code",
      "source": [
        "print(\"\\n=== Cek Data Duplikat ===\")\n",
        "dup_count = df_dirty.duplicated().sum()\n",
        "print(f\"Jumlah baris duplikat: {dup_count}\")\n",
        "\n",
        "before = df_dirty.shape[0]\n",
        "df_clean = df_dirty.drop_duplicates()\n",
        "after = df_clean.shape[0]"
      ],
      "metadata": {
        "colab": {
          "base_uri": "https://localhost:8080/"
        },
        "id": "3OUpNVwkU8bt",
        "outputId": "ef64e51d-c42f-49ef-bde2-ff7bbef80c4a"
      },
      "execution_count": null,
      "outputs": [
        {
          "output_type": "stream",
          "name": "stdout",
          "text": [
            "\n",
            "=== Cek Data Duplikat ===\n",
            "Jumlah baris duplikat: 0\n"
          ]
        }
      ]
    },
    {
      "cell_type": "code",
      "source": [
        "print(f\"Jumlah baris sebelum cleaning: {before}\")\n",
        "print(f\"Jumlah baris setelah cleaning: {after}\")\n",
        "print(f\"Jumlah baris terhapus (duplikat): {before - after}\")"
      ],
      "metadata": {
        "colab": {
          "base_uri": "https://localhost:8080/"
        },
        "id": "HGQaRraUVfxs",
        "outputId": "20435be6-e952-4ce6-ef82-fc1844f9126f"
      },
      "execution_count": null,
      "outputs": [
        {
          "output_type": "stream",
          "name": "stdout",
          "text": [
            "Jumlah baris sebelum cleaning: 999\n",
            "Jumlah baris setelah cleaning: 999\n",
            "Jumlah baris terhapus (duplikat): 0\n"
          ]
        }
      ]
    },
    {
      "cell_type": "markdown",
      "source": [
        "# 7. Memperbaiki Nama Game Yang Ada simbolnya"
      ],
      "metadata": {
        "id": "GEOuQ3jPU8vM"
      }
    },
    {
      "cell_type": "code",
      "source": [
        "# Normalisasi teks supaya karakter aneh hilang\n",
        "def normalize_text(text):\n",
        "    if pd.isna(text):\n",
        "        return text\n",
        "    text = unicodedata.normalize(\"NFKD\", str(text))\n",
        "    text = text.encode(\"ascii\", errors=\"ignore\").decode(\"utf-8\", errors=\"ignore\")\n",
        "    return text.strip()\n",
        "\n",
        "df[\"Name\"] = df[\"Name\"].apply(normalize_text)\n",
        "\n",
        "# Cek baris index 88 (Rank = 89)\n",
        "print(\"Sebelum perbaikan:\")\n",
        "print(df.iloc[88][[\"Rank\", \"Name\"]])\n",
        "\n",
        "# Kalau masih ada 'Pokmon' atau aneh, paksa ganti\n",
        "df.loc[df.index == 88, \"Name\"] = \"Pokemon Platinum Version\"\n",
        "\n",
        "print(\"\\nSesudah perbaikan:\")\n",
        "print(df.iloc[88][[\"Rank\", \"Name\"]])\n",
        "\n",
        "# Tampilkan semua baris yang ada Pokemon\n",
        "print(\"\\nSemua game Pokemon:\")\n",
        "print(df[df[\"Name\"].str.contains(\"Pokemon\", case=False, na=False)][[\"Rank\", \"Name\"]])"
      ],
      "metadata": {
        "colab": {
          "base_uri": "https://localhost:8080/"
        },
        "id": "8yDBTm2ZVAYc",
        "outputId": "609ad92d-54c5-418e-8d5d-998c172edf38"
      },
      "execution_count": null,
      "outputs": [
        {
          "output_type": "stream",
          "name": "stdout",
          "text": [
            "Sebelum perbaikan:\n",
            "Rank                          89\n",
            "Name    PokAmon Platinum Version\n",
            "Name: 88, dtype: object\n",
            "\n",
            "Sesudah perbaikan:\n",
            "Rank                          89\n",
            "Name    Pokemon Platinum Version\n",
            "Name: 88, dtype: object\n",
            "\n",
            "Semua game Pokemon:\n",
            "     Rank                                               Name\n",
            "4       5                           Pokemon Red/Pokemon Blue\n",
            "12     13                        Pokemon Gold/Pokemon Silver\n",
            "20     21                      Pokemon Diamond/Pokemon Pearl\n",
            "25     26                      Pokemon Ruby/Pokemon Sapphire\n",
            "26     27                        Pokemon Black/Pokemon White\n",
            "32     33                                Pokemon X/Pokemon Y\n",
            "45     46               Pokemon HeartGold/Pokemon SoulSilver\n",
            "49     50          Pokemon Omega Ruby/Pokemon Alpha Sapphire\n",
            "58     59                  Pokemon FireRed/Pokemon LeafGreen\n",
            "81     82                    Pokemon Black 2/Pokemon White 2\n",
            "88     89                           Pokemon Platinum Version\n",
            "165   166                                    Pokemon Stadium\n",
            "171   172                                    Pokemon Pinball\n",
            "209   210  Pokemon Mystery Dungeon: Explorers of Time/Exp...\n",
            "346   347                                       Pokemon Snap\n",
            "692   694                   Pokemon Ranger: Shadows of Almia\n",
            "750   752                                     Pokemon Ranger\n",
            "816   818      Pokemon Mystery Dungeon: Red/Blue Rescue Team\n"
          ]
        }
      ]
    },
    {
      "cell_type": "markdown",
      "source": [
        "# 8. Standarisasi Kolom Pembelian Setiap Negara, Global dan Penjualan Lainnya Dan Menyimpan Datanya"
      ],
      "metadata": {
        "id": "ltpV8CSRWdJ0"
      }
    },
    {
      "cell_type": "markdown",
      "source": [
        "*   Menambahkan kolom baru untuk memudahkan dalam membaca data\n",
        "\n",
        "*   Tidak menghilangkan versi numerik berbilangan desimal agar memudahkan dalam perhitungan data"
      ],
      "metadata": {
        "id": "qWIq0mk2Wn3z"
      }
    },
    {
      "cell_type": "code",
      "source": [
        "# Kolom penjualan\n",
        "cols_to_convert = [\"NA_Sales\", \"EU_Sales\", \"JP_Sales\", \"Other_Sales\", \"Global_Sales\"]\n",
        "\n",
        "# Create a fresh copy of df_dirty to avoid issues with re-execution\n",
        "comparison = df_dirty.copy()\n",
        "\n",
        "# Pastikan numeric\n",
        "for col in cols_to_convert:\n",
        "    comparison[col] = pd.to_numeric(comparison[col], errors=\"coerce\")\n",
        "\n",
        "# Buat versi Million tepat di samping kolom aslinya\n",
        "for col in cols_to_convert:\n",
        "    new_col_name = col + \"_Million\"\n",
        "    if new_col_name not in comparison.columns:\n",
        "        comparison.insert(\n",
        "            comparison.columns.get_loc(col) + 1,   # posisi setelah kolom asli\n",
        "            new_col_name,\n",
        "            comparison[col].apply(lambda x: f\"{x:.2f}M\" if pd.notna(x) else \"-\")\n",
        "        )\n",
        "\n",
        "# Tampilkan 5 baris pertama\n",
        "print(\"Dataset with added columns (Million) next to original:\")\n",
        "print(comparison.head(5))\n",
        "\n",
        "# Simpan ke Google Drive\n",
        "output_path = \"/content/drive/MyDrive/Colab Notebooks/vgsales.xlsx\"\n",
        "comparison.to_excel(output_path, index=False)\n",
        "\n",
        "print(\"\\nDataset bersih disimpan di:\", output_path)\n"
      ],
      "metadata": {
        "colab": {
          "base_uri": "https://localhost:8080/"
        },
        "id": "b-cgIDisWlSS",
        "outputId": "dcc2e3b1-a574-4adb-d19b-eec118237cb0"
      },
      "execution_count": null,
      "outputs": [
        {
          "output_type": "stream",
          "name": "stdout",
          "text": [
            "Dataset with added columns (Million) next to original:\n",
            "   Rank                      Name Platform    Year         Genre Publisher  \\\n",
            "0   1.0                Wii Sports      Wii  2006.0        Sports  Nintendo   \n",
            "1   2.0         Super Mario Bros.      NES  1985.0      Platform  Nintendo   \n",
            "2   3.0            Mario Kart Wii      Wii  2008.0        Racing  Nintendo   \n",
            "3   4.0         Wii Sports Resort      Wii  2009.0        Sports  Nintendo   \n",
            "4   5.0  Pokemon Red/Pokemon Blue       GB  1996.0  Role-Playing  Nintendo   \n",
            "\n",
            "   NA_Sales NA_Sales_Million  EU_Sales EU_Sales_Million  JP_Sales  \\\n",
            "0     41.49           41.49M     29.02           29.02M      3.77   \n",
            "1     29.08           29.08M      3.58            3.58M      6.81   \n",
            "2     15.85           15.85M     12.88           12.88M      3.79   \n",
            "3     15.75           15.75M     11.01           11.01M      3.28   \n",
            "4     11.27           11.27M      8.89            8.89M     10.22   \n",
            "\n",
            "  JP_Sales_Million  Other_Sales Other_Sales_Million  Global_Sales  \\\n",
            "0            3.77M         8.46               8.46M         82.74   \n",
            "1            6.81M         0.77               0.77M         40.24   \n",
            "2            3.79M         3.31               3.31M         35.82   \n",
            "3            3.28M         2.96               2.96M         33.00   \n",
            "4           10.22M         1.00               1.00M         31.37   \n",
            "\n",
            "  Global_Sales_Million  \n",
            "0               82.74M  \n",
            "1               40.24M  \n",
            "2               35.82M  \n",
            "3               33.00M  \n",
            "4               31.37M  \n",
            "\n",
            "Dataset bersih disimpan di: /content/drive/MyDrive/Colab Notebooks/vgsales.xlsx\n"
          ]
        }
      ]
    },
    {
      "cell_type": "markdown",
      "source": [
        "# 9. DATA ENRICHMENT - MENGISI ANGKA 0 YANG ADA PADA KOLOM"
      ],
      "metadata": {
        "id": "RSBuICBCW_Wb"
      }
    },
    {
      "cell_type": "markdown",
      "source": [
        "*   Mengisi angka Penjualan yang memiliki nilai 0 dengan menggunakan mean"
      ],
      "metadata": {
        "id": "rTglC_ZWXS6S"
      }
    },
    {
      "cell_type": "code",
      "source": [
        "# Pastikan semua kolom numerik bertipe float\n",
        "for col in df.select_dtypes(include=[\"number\"]).columns:\n",
        "    df[col] = df[col].astype(float)\n",
        "\n",
        "changed_rows = []\n",
        "\n",
        "# Loop tiap kolom numerik\n",
        "for col in df.select_dtypes(include=[\"number\"]).columns:\n",
        "    if (df[col] == 0).any():  # hanya kalau ada nilai 0\n",
        "        mean_val = df.loc[df[col] > 0, col].mean()\n",
        "\n",
        "        # Simpan data sebelum diganti\n",
        "        before = df.loc[df[col] == 0, [col]].copy()\n",
        "        before = before.rename(columns={col: \"Sebelum\"})\n",
        "        before[\"Kolom\"] = col\n",
        "        before[\"Sesudah\"] = mean_val\n",
        "\n",
        "        # Update dataframe (ganti 0 dengan mean)\n",
        "        df.loc[df[col] == 0, col] = mean_val\n",
        "\n",
        "        # Tambahkan ke list perubahan\n",
        "        changed_rows.append(before)\n",
        "\n",
        "# Gabungkan semua perubahan\n",
        "if changed_rows:\n",
        "    result = pd.concat(changed_rows, axis=0).reset_index(drop=True)\n",
        "    print(\"=== Data yang berubah (sebelum → sesudah) ===\")\n",
        "    print(result.head(10))  # tampilkan 10 baris pertama\n",
        "else:\n",
        "    print(\"Tidak ada nilai 0 yang ditemukan.\")"
      ],
      "metadata": {
        "colab": {
          "base_uri": "https://localhost:8080/"
        },
        "id": "c2QNtQswXN4T",
        "outputId": "d3928d80-eda9-4784-c76f-f70bf5d21109"
      },
      "execution_count": null,
      "outputs": [
        {
          "output_type": "stream",
          "name": "stdout",
          "text": [
            "=== Data yang berubah (sebelum → sesudah) ===\n",
            "   Sebelum     Kolom   Sesudah\n",
            "0      0.0  NA_Sales  2.111768\n",
            "1      0.0  NA_Sales  2.111768\n",
            "2      0.0  NA_Sales  2.111768\n",
            "3      0.0  NA_Sales  2.111768\n",
            "4      0.0  NA_Sales  2.111768\n",
            "5      0.0  NA_Sales  2.111768\n",
            "6      0.0  NA_Sales  2.111768\n",
            "7      0.0  NA_Sales  2.111768\n",
            "8      0.0  NA_Sales  2.111768\n",
            "9      0.0  NA_Sales  2.111768\n"
          ]
        }
      ]
    },
    {
      "cell_type": "markdown",
      "source": [
        "# 10. Cek Kolom Tidak Relevan"
      ],
      "metadata": {
        "id": "hTFizu3MZiyB"
      }
    },
    {
      "cell_type": "code",
      "source": [
        "# 1. Cek jumlah nilai unik per kolom\n",
        "print(\"=== Jumlah nilai unik per kolom ===\")\n",
        "print(df.nunique())"
      ],
      "metadata": {
        "colab": {
          "base_uri": "https://localhost:8080/"
        },
        "id": "rBqRAPWnbAYI",
        "outputId": "d034e07f-a657-4c07-8a7e-b2a0431ad599"
      },
      "execution_count": null,
      "outputs": [
        {
          "output_type": "stream",
          "name": "stdout",
          "text": [
            "=== Jumlah nilai unik per kolom ===\n",
            "Rank            999\n",
            "Name            824\n",
            "Platform         24\n",
            "Year             38\n",
            "Genre            12\n",
            "Publisher        54\n",
            "NA_Sales        399\n",
            "EU_Sales        304\n",
            "JP_Sales        223\n",
            "Other_Sales     156\n",
            "Global_Sales    448\n",
            "dtype: int64\n"
          ]
        }
      ]
    },
    {
      "cell_type": "code",
      "source": [
        "# Identifikasi kolom kandidat tidak relevan\n",
        "irrelevant_cols = []\n",
        "\n",
        "# Kolom dengan 1 nilai unik\n",
        "single_value_cols = df.nunique()[df.nunique() == 1].index.tolist()\n",
        "irrelevant_cols.extend(single_value_cols)"
      ],
      "metadata": {
        "id": "Py2z3SL6bHlP"
      },
      "execution_count": null,
      "outputs": []
    },
    {
      "cell_type": "code",
      "source": [
        "# Hapus kolom tidak relevan\n",
        "df = df.drop(columns=set(irrelevant_cols), errors='ignore')\n",
        "\n",
        "print(\"\\n=== Setelah perbaikan ===\")\n",
        "print(\"Kolom dataset sekarang:\", df.columns.tolist())"
      ],
      "metadata": {
        "colab": {
          "base_uri": "https://localhost:8080/"
        },
        "id": "mTU_ETP-bqqv",
        "outputId": "81eee046-b1f5-40c3-84b0-f3171bb607f8"
      },
      "execution_count": null,
      "outputs": [
        {
          "output_type": "stream",
          "name": "stdout",
          "text": [
            "\n",
            "=== Setelah perbaikan ===\n",
            "Kolom dataset sekarang: ['Rank', 'Name', 'Platform', 'Year', 'Genre', 'Publisher', 'NA_Sales', 'EU_Sales', 'JP_Sales', 'Other_Sales', 'Global_Sales']\n"
          ]
        }
      ]
    },
    {
      "cell_type": "markdown",
      "source": [
        "# 11. Menampilkan Beberapa Data Yang Sudah Di Cleansing"
      ],
      "metadata": {
        "id": "UErlyPMAbzWn"
      }
    },
    {
      "cell_type": "markdown",
      "source": [
        "\n",
        "\n",
        "*  Menampilkan dataset akhir setelah proses cleansing:\n",
        "\n",
        "* Tidak ada missing value penting (semua sudah diisi dengan median, modus, atau kategori default).\n",
        "\n",
        "* Tidak ada duplikasi data.\n",
        "\n",
        "* Tidak ada kolom tidak relevan yang hanya memiliki 1 nilai unik.\n",
        "\n"
      ],
      "metadata": {
        "id": "tt692dnSmhYQ"
      }
    },
    {
      "cell_type": "code",
      "source": [
        "print(\"\\nContoh data bersih:\")\n",
        "display(df.head(10))"
      ],
      "metadata": {
        "colab": {
          "base_uri": "https://localhost:8080/",
          "height": 399
        },
        "id": "A91cdGDXb_Uf",
        "outputId": "f5efc0cc-c2b1-4105-d0ad-c0c818e17407"
      },
      "execution_count": null,
      "outputs": [
        {
          "output_type": "stream",
          "name": "stdout",
          "text": [
            "\n",
            "Contoh data bersih:\n"
          ]
        },
        {
          "output_type": "display_data",
          "data": {
            "text/plain": [
              "   Rank                       Name Platform    Year         Genre Publisher  \\\n",
              "0   1.0                 Wii Sports      Wii  2006.0        Sports  Nintendo   \n",
              "1   2.0          Super Mario Bros.      NES  1985.0      Platform  Nintendo   \n",
              "2   3.0             Mario Kart Wii      Wii  2008.0        Racing  Nintendo   \n",
              "3   4.0          Wii Sports Resort      Wii  2009.0        Sports  Nintendo   \n",
              "4   5.0   Pokemon Red/Pokemon Blue       GB  1996.0  Role-Playing  Nintendo   \n",
              "5   6.0                     Tetris       GB  1989.0        Puzzle  Nintendo   \n",
              "6   7.0      New Super Mario Bros.       DS  2006.0      Platform  Nintendo   \n",
              "7   8.0                   Wii Play      Wii  2006.0          Misc  Nintendo   \n",
              "8   9.0  New Super Mario Bros. Wii      Wii  2009.0      Platform  Nintendo   \n",
              "9  10.0                  Duck Hunt      NES  1984.0       Shooter  Nintendo   \n",
              "\n",
              "   NA_Sales  EU_Sales  JP_Sales  Other_Sales  Global_Sales  \n",
              "0     41.49     29.02      3.77         8.46         82.74  \n",
              "1     29.08      3.58      6.81         0.77         40.24  \n",
              "2     15.85     12.88      3.79         3.31         35.82  \n",
              "3     15.75     11.01      3.28         2.96         33.00  \n",
              "4     11.27      8.89     10.22         1.00         31.37  \n",
              "5     23.20      2.26      4.22         0.58         30.26  \n",
              "6     11.38      9.23      6.50         2.90         30.01  \n",
              "7     14.03      9.20      2.93         2.85         29.02  \n",
              "8     14.59      7.06      4.70         2.26         28.62  \n",
              "9     26.93      0.63      0.28         0.47         28.31  "
            ],
            "text/html": [
              "\n",
              "  <div id=\"df-a8440183-f0ff-426c-bd95-dff53054b1ed\" class=\"colab-df-container\">\n",
              "    <div>\n",
              "<style scoped>\n",
              "    .dataframe tbody tr th:only-of-type {\n",
              "        vertical-align: middle;\n",
              "    }\n",
              "\n",
              "    .dataframe tbody tr th {\n",
              "        vertical-align: top;\n",
              "    }\n",
              "\n",
              "    .dataframe thead th {\n",
              "        text-align: right;\n",
              "    }\n",
              "</style>\n",
              "<table border=\"1\" class=\"dataframe\">\n",
              "  <thead>\n",
              "    <tr style=\"text-align: right;\">\n",
              "      <th></th>\n",
              "      <th>Rank</th>\n",
              "      <th>Name</th>\n",
              "      <th>Platform</th>\n",
              "      <th>Year</th>\n",
              "      <th>Genre</th>\n",
              "      <th>Publisher</th>\n",
              "      <th>NA_Sales</th>\n",
              "      <th>EU_Sales</th>\n",
              "      <th>JP_Sales</th>\n",
              "      <th>Other_Sales</th>\n",
              "      <th>Global_Sales</th>\n",
              "    </tr>\n",
              "  </thead>\n",
              "  <tbody>\n",
              "    <tr>\n",
              "      <th>0</th>\n",
              "      <td>1.0</td>\n",
              "      <td>Wii Sports</td>\n",
              "      <td>Wii</td>\n",
              "      <td>2006.0</td>\n",
              "      <td>Sports</td>\n",
              "      <td>Nintendo</td>\n",
              "      <td>41.49</td>\n",
              "      <td>29.02</td>\n",
              "      <td>3.77</td>\n",
              "      <td>8.46</td>\n",
              "      <td>82.74</td>\n",
              "    </tr>\n",
              "    <tr>\n",
              "      <th>1</th>\n",
              "      <td>2.0</td>\n",
              "      <td>Super Mario Bros.</td>\n",
              "      <td>NES</td>\n",
              "      <td>1985.0</td>\n",
              "      <td>Platform</td>\n",
              "      <td>Nintendo</td>\n",
              "      <td>29.08</td>\n",
              "      <td>3.58</td>\n",
              "      <td>6.81</td>\n",
              "      <td>0.77</td>\n",
              "      <td>40.24</td>\n",
              "    </tr>\n",
              "    <tr>\n",
              "      <th>2</th>\n",
              "      <td>3.0</td>\n",
              "      <td>Mario Kart Wii</td>\n",
              "      <td>Wii</td>\n",
              "      <td>2008.0</td>\n",
              "      <td>Racing</td>\n",
              "      <td>Nintendo</td>\n",
              "      <td>15.85</td>\n",
              "      <td>12.88</td>\n",
              "      <td>3.79</td>\n",
              "      <td>3.31</td>\n",
              "      <td>35.82</td>\n",
              "    </tr>\n",
              "    <tr>\n",
              "      <th>3</th>\n",
              "      <td>4.0</td>\n",
              "      <td>Wii Sports Resort</td>\n",
              "      <td>Wii</td>\n",
              "      <td>2009.0</td>\n",
              "      <td>Sports</td>\n",
              "      <td>Nintendo</td>\n",
              "      <td>15.75</td>\n",
              "      <td>11.01</td>\n",
              "      <td>3.28</td>\n",
              "      <td>2.96</td>\n",
              "      <td>33.00</td>\n",
              "    </tr>\n",
              "    <tr>\n",
              "      <th>4</th>\n",
              "      <td>5.0</td>\n",
              "      <td>Pokemon Red/Pokemon Blue</td>\n",
              "      <td>GB</td>\n",
              "      <td>1996.0</td>\n",
              "      <td>Role-Playing</td>\n",
              "      <td>Nintendo</td>\n",
              "      <td>11.27</td>\n",
              "      <td>8.89</td>\n",
              "      <td>10.22</td>\n",
              "      <td>1.00</td>\n",
              "      <td>31.37</td>\n",
              "    </tr>\n",
              "    <tr>\n",
              "      <th>5</th>\n",
              "      <td>6.0</td>\n",
              "      <td>Tetris</td>\n",
              "      <td>GB</td>\n",
              "      <td>1989.0</td>\n",
              "      <td>Puzzle</td>\n",
              "      <td>Nintendo</td>\n",
              "      <td>23.20</td>\n",
              "      <td>2.26</td>\n",
              "      <td>4.22</td>\n",
              "      <td>0.58</td>\n",
              "      <td>30.26</td>\n",
              "    </tr>\n",
              "    <tr>\n",
              "      <th>6</th>\n",
              "      <td>7.0</td>\n",
              "      <td>New Super Mario Bros.</td>\n",
              "      <td>DS</td>\n",
              "      <td>2006.0</td>\n",
              "      <td>Platform</td>\n",
              "      <td>Nintendo</td>\n",
              "      <td>11.38</td>\n",
              "      <td>9.23</td>\n",
              "      <td>6.50</td>\n",
              "      <td>2.90</td>\n",
              "      <td>30.01</td>\n",
              "    </tr>\n",
              "    <tr>\n",
              "      <th>7</th>\n",
              "      <td>8.0</td>\n",
              "      <td>Wii Play</td>\n",
              "      <td>Wii</td>\n",
              "      <td>2006.0</td>\n",
              "      <td>Misc</td>\n",
              "      <td>Nintendo</td>\n",
              "      <td>14.03</td>\n",
              "      <td>9.20</td>\n",
              "      <td>2.93</td>\n",
              "      <td>2.85</td>\n",
              "      <td>29.02</td>\n",
              "    </tr>\n",
              "    <tr>\n",
              "      <th>8</th>\n",
              "      <td>9.0</td>\n",
              "      <td>New Super Mario Bros. Wii</td>\n",
              "      <td>Wii</td>\n",
              "      <td>2009.0</td>\n",
              "      <td>Platform</td>\n",
              "      <td>Nintendo</td>\n",
              "      <td>14.59</td>\n",
              "      <td>7.06</td>\n",
              "      <td>4.70</td>\n",
              "      <td>2.26</td>\n",
              "      <td>28.62</td>\n",
              "    </tr>\n",
              "    <tr>\n",
              "      <th>9</th>\n",
              "      <td>10.0</td>\n",
              "      <td>Duck Hunt</td>\n",
              "      <td>NES</td>\n",
              "      <td>1984.0</td>\n",
              "      <td>Shooter</td>\n",
              "      <td>Nintendo</td>\n",
              "      <td>26.93</td>\n",
              "      <td>0.63</td>\n",
              "      <td>0.28</td>\n",
              "      <td>0.47</td>\n",
              "      <td>28.31</td>\n",
              "    </tr>\n",
              "  </tbody>\n",
              "</table>\n",
              "</div>\n",
              "    <div class=\"colab-df-buttons\">\n",
              "\n",
              "  <div class=\"colab-df-container\">\n",
              "    <button class=\"colab-df-convert\" onclick=\"convertToInteractive('df-a8440183-f0ff-426c-bd95-dff53054b1ed')\"\n",
              "            title=\"Convert this dataframe to an interactive table.\"\n",
              "            style=\"display:none;\">\n",
              "\n",
              "  <svg xmlns=\"http://www.w3.org/2000/svg\" height=\"24px\" viewBox=\"0 -960 960 960\">\n",
              "    <path d=\"M120-120v-720h720v720H120Zm60-500h600v-160H180v160Zm220 220h160v-160H400v160Zm0 220h160v-160H400v160ZM180-400h160v-160H180v160Zm440 0h160v-160H620v160ZM180-180h160v-160H180v160Zm440 0h160v-160H620v160Z\"/>\n",
              "  </svg>\n",
              "    </button>\n",
              "\n",
              "  <style>\n",
              "    .colab-df-container {\n",
              "      display:flex;\n",
              "      gap: 12px;\n",
              "    }\n",
              "\n",
              "    .colab-df-convert {\n",
              "      background-color: #E8F0FE;\n",
              "      border: none;\n",
              "      border-radius: 50%;\n",
              "      cursor: pointer;\n",
              "      display: none;\n",
              "      fill: #1967D2;\n",
              "      height: 32px;\n",
              "      padding: 0 0 0 0;\n",
              "      width: 32px;\n",
              "    }\n",
              "\n",
              "    .colab-df-convert:hover {\n",
              "      background-color: #E2EBFA;\n",
              "      box-shadow: 0px 1px 2px rgba(60, 64, 67, 0.3), 0px 1px 3px 1px rgba(60, 64, 67, 0.15);\n",
              "      fill: #174EA6;\n",
              "    }\n",
              "\n",
              "    .colab-df-buttons div {\n",
              "      margin-bottom: 4px;\n",
              "    }\n",
              "\n",
              "    [theme=dark] .colab-df-convert {\n",
              "      background-color: #3B4455;\n",
              "      fill: #D2E3FC;\n",
              "    }\n",
              "\n",
              "    [theme=dark] .colab-df-convert:hover {\n",
              "      background-color: #434B5C;\n",
              "      box-shadow: 0px 1px 3px 1px rgba(0, 0, 0, 0.15);\n",
              "      filter: drop-shadow(0px 1px 2px rgba(0, 0, 0, 0.3));\n",
              "      fill: #FFFFFF;\n",
              "    }\n",
              "  </style>\n",
              "\n",
              "    <script>\n",
              "      const buttonEl =\n",
              "        document.querySelector('#df-a8440183-f0ff-426c-bd95-dff53054b1ed button.colab-df-convert');\n",
              "      buttonEl.style.display =\n",
              "        google.colab.kernel.accessAllowed ? 'block' : 'none';\n",
              "\n",
              "      async function convertToInteractive(key) {\n",
              "        const element = document.querySelector('#df-a8440183-f0ff-426c-bd95-dff53054b1ed');\n",
              "        const dataTable =\n",
              "          await google.colab.kernel.invokeFunction('convertToInteractive',\n",
              "                                                    [key], {});\n",
              "        if (!dataTable) return;\n",
              "\n",
              "        const docLinkHtml = 'Like what you see? Visit the ' +\n",
              "          '<a target=\"_blank\" href=https://colab.research.google.com/notebooks/data_table.ipynb>data table notebook</a>'\n",
              "          + ' to learn more about interactive tables.';\n",
              "        element.innerHTML = '';\n",
              "        dataTable['output_type'] = 'display_data';\n",
              "        await google.colab.output.renderOutput(dataTable, element);\n",
              "        const docLink = document.createElement('div');\n",
              "        docLink.innerHTML = docLinkHtml;\n",
              "        element.appendChild(docLink);\n",
              "      }\n",
              "    </script>\n",
              "  </div>\n",
              "\n",
              "\n",
              "    <div id=\"df-d978c9c1-b897-4df6-8aa0-fba6d3f0b70f\">\n",
              "      <button class=\"colab-df-quickchart\" onclick=\"quickchart('df-d978c9c1-b897-4df6-8aa0-fba6d3f0b70f')\"\n",
              "                title=\"Suggest charts\"\n",
              "                style=\"display:none;\">\n",
              "\n",
              "<svg xmlns=\"http://www.w3.org/2000/svg\" height=\"24px\"viewBox=\"0 0 24 24\"\n",
              "     width=\"24px\">\n",
              "    <g>\n",
              "        <path d=\"M19 3H5c-1.1 0-2 .9-2 2v14c0 1.1.9 2 2 2h14c1.1 0 2-.9 2-2V5c0-1.1-.9-2-2-2zM9 17H7v-7h2v7zm4 0h-2V7h2v10zm4 0h-2v-4h2v4z\"/>\n",
              "    </g>\n",
              "</svg>\n",
              "      </button>\n",
              "\n",
              "<style>\n",
              "  .colab-df-quickchart {\n",
              "      --bg-color: #E8F0FE;\n",
              "      --fill-color: #1967D2;\n",
              "      --hover-bg-color: #E2EBFA;\n",
              "      --hover-fill-color: #174EA6;\n",
              "      --disabled-fill-color: #AAA;\n",
              "      --disabled-bg-color: #DDD;\n",
              "  }\n",
              "\n",
              "  [theme=dark] .colab-df-quickchart {\n",
              "      --bg-color: #3B4455;\n",
              "      --fill-color: #D2E3FC;\n",
              "      --hover-bg-color: #434B5C;\n",
              "      --hover-fill-color: #FFFFFF;\n",
              "      --disabled-bg-color: #3B4455;\n",
              "      --disabled-fill-color: #666;\n",
              "  }\n",
              "\n",
              "  .colab-df-quickchart {\n",
              "    background-color: var(--bg-color);\n",
              "    border: none;\n",
              "    border-radius: 50%;\n",
              "    cursor: pointer;\n",
              "    display: none;\n",
              "    fill: var(--fill-color);\n",
              "    height: 32px;\n",
              "    padding: 0;\n",
              "    width: 32px;\n",
              "  }\n",
              "\n",
              "  .colab-df-quickchart:hover {\n",
              "    background-color: var(--hover-bg-color);\n",
              "    box-shadow: 0 1px 2px rgba(60, 64, 67, 0.3), 0 1px 3px 1px rgba(60, 64, 67, 0.15);\n",
              "    fill: var(--button-hover-fill-color);\n",
              "  }\n",
              "\n",
              "  .colab-df-quickchart-complete:disabled,\n",
              "  .colab-df-quickchart-complete:disabled:hover {\n",
              "    background-color: var(--disabled-bg-color);\n",
              "    fill: var(--disabled-fill-color);\n",
              "    box-shadow: none;\n",
              "  }\n",
              "\n",
              "  .colab-df-spinner {\n",
              "    border: 2px solid var(--fill-color);\n",
              "    border-color: transparent;\n",
              "    border-bottom-color: var(--fill-color);\n",
              "    animation:\n",
              "      spin 1s steps(1) infinite;\n",
              "  }\n",
              "\n",
              "  @keyframes spin {\n",
              "    0% {\n",
              "      border-color: transparent;\n",
              "      border-bottom-color: var(--fill-color);\n",
              "      border-left-color: var(--fill-color);\n",
              "    }\n",
              "    20% {\n",
              "      border-color: transparent;\n",
              "      border-left-color: var(--fill-color);\n",
              "      border-top-color: var(--fill-color);\n",
              "    }\n",
              "    30% {\n",
              "      border-color: transparent;\n",
              "      border-left-color: var(--fill-color);\n",
              "      border-top-color: var(--fill-color);\n",
              "      border-right-color: var(--fill-color);\n",
              "    }\n",
              "    40% {\n",
              "      border-color: transparent;\n",
              "      border-right-color: var(--fill-color);\n",
              "      border-top-color: var(--fill-color);\n",
              "    }\n",
              "    60% {\n",
              "      border-color: transparent;\n",
              "      border-right-color: var(--fill-color);\n",
              "    }\n",
              "    80% {\n",
              "      border-color: transparent;\n",
              "      border-right-color: var(--fill-color);\n",
              "      border-bottom-color: var(--fill-color);\n",
              "    }\n",
              "    90% {\n",
              "      border-color: transparent;\n",
              "      border-bottom-color: var(--fill-color);\n",
              "    }\n",
              "  }\n",
              "</style>\n",
              "\n",
              "      <script>\n",
              "        async function quickchart(key) {\n",
              "          const quickchartButtonEl =\n",
              "            document.querySelector('#' + key + ' button');\n",
              "          quickchartButtonEl.disabled = true;  // To prevent multiple clicks.\n",
              "          quickchartButtonEl.classList.add('colab-df-spinner');\n",
              "          try {\n",
              "            const charts = await google.colab.kernel.invokeFunction(\n",
              "                'suggestCharts', [key], {});\n",
              "          } catch (error) {\n",
              "            console.error('Error during call to suggestCharts:', error);\n",
              "          }\n",
              "          quickchartButtonEl.classList.remove('colab-df-spinner');\n",
              "          quickchartButtonEl.classList.add('colab-df-quickchart-complete');\n",
              "        }\n",
              "        (() => {\n",
              "          let quickchartButtonEl =\n",
              "            document.querySelector('#df-d978c9c1-b897-4df6-8aa0-fba6d3f0b70f button');\n",
              "          quickchartButtonEl.style.display =\n",
              "            google.colab.kernel.accessAllowed ? 'block' : 'none';\n",
              "        })();\n",
              "      </script>\n",
              "    </div>\n",
              "\n",
              "    </div>\n",
              "  </div>\n"
            ],
            "application/vnd.google.colaboratory.intrinsic+json": {
              "type": "dataframe",
              "summary": "{\n  \"name\": \"display(df\",\n  \"rows\": 10,\n  \"fields\": [\n    {\n      \"column\": \"Rank\",\n      \"properties\": {\n        \"dtype\": \"number\",\n        \"std\": 3.0276503540974917,\n        \"min\": 1.0,\n        \"max\": 10.0,\n        \"num_unique_values\": 10,\n        \"samples\": [\n          9.0,\n          2.0,\n          6.0\n        ],\n        \"semantic_type\": \"\",\n        \"description\": \"\"\n      }\n    },\n    {\n      \"column\": \"Name\",\n      \"properties\": {\n        \"dtype\": \"string\",\n        \"num_unique_values\": 10,\n        \"samples\": [\n          \"New Super Mario Bros. Wii\",\n          \"Super Mario Bros.\",\n          \"Tetris\"\n        ],\n        \"semantic_type\": \"\",\n        \"description\": \"\"\n      }\n    },\n    {\n      \"column\": \"Platform\",\n      \"properties\": {\n        \"dtype\": \"category\",\n        \"num_unique_values\": 4,\n        \"samples\": [\n          \"NES\",\n          \"DS\",\n          \"Wii\"\n        ],\n        \"semantic_type\": \"\",\n        \"description\": \"\"\n      }\n    },\n    {\n      \"column\": \"Year\",\n      \"properties\": {\n        \"dtype\": \"date\",\n        \"min\": 1984.0,\n        \"max\": 2009.0,\n        \"num_unique_values\": 7,\n        \"samples\": [\n          2006.0,\n          1985.0,\n          1989.0\n        ],\n        \"semantic_type\": \"\",\n        \"description\": \"\"\n      }\n    },\n    {\n      \"column\": \"Genre\",\n      \"properties\": {\n        \"dtype\": \"string\",\n        \"num_unique_values\": 7,\n        \"samples\": [\n          \"Sports\",\n          \"Platform\",\n          \"Misc\"\n        ],\n        \"semantic_type\": \"\",\n        \"description\": \"\"\n      }\n    },\n    {\n      \"column\": \"Publisher\",\n      \"properties\": {\n        \"dtype\": \"category\",\n        \"num_unique_values\": 1,\n        \"samples\": [\n          \"Nintendo\"\n        ],\n        \"semantic_type\": \"\",\n        \"description\": \"\"\n      }\n    },\n    {\n      \"column\": \"NA_Sales\",\n      \"properties\": {\n        \"dtype\": \"number\",\n        \"std\": 9.729498159948664,\n        \"min\": 11.27,\n        \"max\": 41.49,\n        \"num_unique_values\": 10,\n        \"samples\": [\n          14.59\n        ],\n        \"semantic_type\": \"\",\n        \"description\": \"\"\n      }\n    },\n    {\n      \"column\": \"EU_Sales\",\n      \"properties\": {\n        \"dtype\": \"number\",\n        \"std\": 7.938728137708486,\n        \"min\": 0.63,\n        \"max\": 29.02,\n        \"num_unique_values\": 10,\n        \"samples\": [\n          7.06\n        ],\n        \"semantic_type\": \"\",\n        \"description\": \"\"\n      }\n    },\n    {\n      \"column\": \"JP_Sales\",\n      \"properties\": {\n        \"dtype\": \"number\",\n        \"std\": 2.682175733740552,\n        \"min\": 0.28,\n        \"max\": 10.22,\n        \"num_unique_values\": 10,\n        \"samples\": [\n          4.7\n        ],\n        \"semantic_type\": \"\",\n        \"description\": \"\"\n      }\n    },\n    {\n      \"column\": \"Other_Sales\",\n      \"properties\": {\n        \"dtype\": \"number\",\n        \"std\": 2.35108107521247,\n        \"min\": 0.47,\n        \"max\": 8.46,\n        \"num_unique_values\": 10,\n        \"samples\": [\n          2.26\n        ],\n        \"semantic_type\": \"\",\n        \"description\": \"\"\n      }\n    },\n    {\n      \"column\": \"Global_Sales\",\n      \"properties\": {\n        \"dtype\": \"number\",\n        \"std\": 16.51735077627967,\n        \"min\": 28.31,\n        \"max\": 82.74,\n        \"num_unique_values\": 10,\n        \"samples\": [\n          28.62\n        ],\n        \"semantic_type\": \"\",\n        \"description\": \"\"\n      }\n    }\n  ]\n}"
            }
          },
          "metadata": {}
        }
      ]
    },
    {
      "cell_type": "markdown",
      "source": [
        "# 12. Visualisasi Data penjualan Game Secara Global"
      ],
      "metadata": {
        "id": "x4RXve_wfyG2"
      }
    },
    {
      "cell_type": "code",
      "source": [
        "# Ambil 10 data dengan Global_Sales terbesar\n",
        "top10_sales = df_dirty.nlargest(10, \"Global_Sales\")\n",
        "\n",
        "plt.figure(figsize=(10,6))\n",
        "sns.barplot(\n",
        "    data=top10_sales,\n",
        "    x=\"Global_Sales\",\n",
        "    y=\"Name\",\n",
        "    palette=\"viridis\"\n",
        ")\n",
        "\n",
        "# Tambahkan label angka di batang\n",
        "for i, v in enumerate(top10_sales[\"Global_Sales\"]):\n",
        "    plt.text(v, i, f\" {v:.2f}M\", va=\"center\")\n",
        "\n",
        "plt.title(\"Top 10 Game dengan Global Sales Terbesar\", fontsize=14)\n",
        "plt.xlabel(\"Global Sales (Million)\")\n",
        "plt.ylabel(\"Game\")\n",
        "plt.show()"
      ],
      "metadata": {
        "colab": {
          "base_uri": "https://localhost:8080/",
          "height": 656
        },
        "id": "2nYkC_kBhAdc",
        "outputId": "8fe804b7-32f6-4e73-9bb7-b9d615f283b1"
      },
      "execution_count": null,
      "outputs": [
        {
          "output_type": "stream",
          "name": "stderr",
          "text": [
            "/tmp/ipython-input-3439799797.py:5: FutureWarning: \n",
            "\n",
            "Passing `palette` without assigning `hue` is deprecated and will be removed in v0.14.0. Assign the `y` variable to `hue` and set `legend=False` for the same effect.\n",
            "\n",
            "  sns.barplot(\n"
          ]
        },
        {
          "output_type": "display_data",
          "data": {
            "text/plain": [
              "<Figure size 1000x600 with 1 Axes>"
            ],
            "image/png": "[encoded data removed]"
          },
          "metadata": {}
        }
      ]
    }
  ]
}